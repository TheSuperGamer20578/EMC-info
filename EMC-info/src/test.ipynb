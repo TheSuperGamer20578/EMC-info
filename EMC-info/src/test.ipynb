{
 "cells": [
  {
   "cell_type": "code",
   "execution_count": 1,
   "metadata": {
    "collapsed": true
   },
   "outputs": [],
   "source": [
    "import EMC\n",
    "import asyncio\n",
    "import time"
   ]
  },
  {
   "cell_type": "code",
   "execution_count": 2,
   "metadata": {
    "pycharm": {
     "name": "#%%\n"
    }
   },
   "outputs": [
    {
     "name": "stdout",
     "output_type": "stream",
     "text": [
      "TheSuperGamer205\n",
      "41.16799879074097\n"
     ]
    }
   ],
   "source": [
    "ti = time.time()\n",
    "t = EMC.Town(\"Dharug\")\n",
    "print(t.mayor.name)\n",
    "print(time.time() - ti)"
   ]
  },
  {
   "cell_type": "code",
   "execution_count": 3,
   "outputs": [
    {
     "name": "stdout",
     "output_type": "stream",
     "text": [
      "False\n",
      "False\n",
      "False\n"
     ]
    }
   ],
   "source": [
    "print(t.nationless)\n",
    "print(t.pvp)\n",
    "print(t.fire)"
   ],
   "metadata": {
    "collapsed": false,
    "pycharm": {
     "name": "#%%\n"
    }
   }
  },
  {
   "cell_type": "code",
   "execution_count": 4,
   "outputs": [
    {
     "name": "stdout",
     "output_type": "stream",
     "text": [
      "TheSuperGamer205\n",
      "39.275320053100586\n"
     ]
    }
   ],
   "source": [
    "ti = time.time()\n",
    "\n",
    "loop = asyncio.get_event_loop()\n",
    "data = loop.create_task(EMC.a_get_data())\n",
    "\n",
    "t = EMC.Town(\"Dharug\")\n",
    "print(t.mayor.name)\n",
    "print(time.time() - ti)"
   ],
   "metadata": {
    "collapsed": false,
    "pycharm": {
     "name": "#%%\n"
    }
   }
  }
 ],
 "metadata": {
  "kernelspec": {
   "display_name": "Python 3",
   "language": "python",
   "name": "python3"
  },
  "language_info": {
   "codemirror_mode": {
    "name": "ipython",
    "version": 3
   },
   "file_extension": ".py",
   "mimetype": "text/x-python",
   "name": "python",
   "nbconvert_exporter": "python",
   "pygments_lexer": "ipython3",
   "version": "3.5.3"
  }
 },
 "nbformat": 4,
 "nbformat_minor": 1
}